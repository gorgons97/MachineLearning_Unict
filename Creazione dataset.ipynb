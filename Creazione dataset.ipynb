{
 "cells": [
  {
   "cell_type": "code",
   "execution_count": 1,
   "id": "3d081854",
   "metadata": {},
   "outputs": [],
   "source": [
    "from torch.utils.data.dataset import Dataset\n",
    "from torch.utils.data import DataLoader\n",
    "from torch.utils.tensorboard import SummaryWriter\n",
    "from torchvision import transforms\n",
    "from torch import nn\n",
    "from torch.optim import SGD\n",
    "from sklearn.metrics import accuracy_score\n",
    "from os.path import join\n",
    "import torch\n",
    "import numpy as np\n",
    "from PIL import Image\n",
    "from os import path\n",
    "\n",
    "class ScenesDataset(Dataset):\n",
    "    \n",
    "    def __init__(self,base_path,txt_list,transform=None):\n",
    "        self.base_path=base_path\n",
    "        self.images = np.loadtxt(txt_list,dtype=str,delimiter=',')\n",
    "        self.transform = transform\n",
    "        \n",
    "    def __getitem__(self, index):\n",
    "        f,c = self.images[index]\n",
    "        im = Image.open(path.join(self.base_path, f))\n",
    "        if self.transform is not None:\n",
    "            im = self.transform(im)\n",
    "        \n",
    "        label = int(c)\n",
    "        \n",
    "        return {'image' : im, 'label':label}\n",
    "    \n",
    "    def __len__(self):\n",
    "        return len(self.images)"
   ]
  },
  {
   "cell_type": "code",
   "execution_count": 2,
   "id": "caf61138",
   "metadata": {
    "scrolled": true
   },
   "outputs": [
    {
     "name": "stdout",
     "output_type": "stream",
     "text": [
      "torch.Size([3, 16, 16])\n",
      "0\n"
     ]
    }
   ],
   "source": [
    "#resize normale\n",
    "transform = transforms.Compose([transforms.Resize(16),transforms.ToTensor()])\n",
    "\n",
    "dataset = ScenesDataset('DITS-full\\DITS-full\\DITS-detection\\class\\image','DITS-full\\DITS-full\\DITS-detection\\class\\classes.txt',transform=transform)\n",
    "sample = dataset[10]\n",
    "print(sample['image'].shape)\n",
    "print(sample['label'])\n",
    "\n",
    "\n",
    "datatrain = ScenesDataset('DITS-full\\DITS-full\\DITS-detection\\detection_test\\day','DITS-full\\DITS-full\\DITS-detection\\detection_test\\day\\classes.txt',transform=transform)"
   ]
  },
  {
   "cell_type": "markdown",
   "id": "ddb6ffce",
   "metadata": {},
   "source": [
    "for i in range(len((dataset))):\n",
    "    sample = dataset[i]\n",
    "    print(sample['image'].shape)\n",
    "    print(sample['label'])"
   ]
  },
  {
   "cell_type": "markdown",
   "id": "31f8fc27",
   "metadata": {},
   "source": [
    "print(sample['image'].shape[1])\n",
    "print(sample['image'].shape[2])\n",
    "print(sample['image'].sum(2).sum(1))\n",
    "print(sample['image'])"
   ]
  },
  {
   "cell_type": "code",
   "execution_count": 3,
   "id": "ffe9f40a",
   "metadata": {},
   "outputs": [
    {
     "name": "stdout",
     "output_type": "stream",
     "text": [
      "Medie [0.00035388 0.00032966 0.00032453]\n",
      "Dev. Std. [0.01475199 0.01385172 0.01393348]\n"
     ]
    }
   ],
   "source": [
    "dataset = ScenesDataset('DITS-full\\DITS-full\\DITS-detection\\class\\image','DITS-full\\DITS-full\\DITS-detection\\class\\classes.txt',transform=transform)\n",
    "\n",
    "m = np.zeros(3)\n",
    "s = np.zeros(3)\n",
    "peso = 0\n",
    "for sample in dataset:\n",
    "    m+=sample['image'].sum(1).sum(1).numpy()\n",
    "    peso+=sample['image'].shape[1]*sample['image'].shape[2]\n",
    "    \n",
    "m=m/(len(dataset)*peso)\n",
    "\n",
    "for sample in dataset:\n",
    "    s+=((sample['image']-torch.Tensor(m).view(3,1,1))**2).sum(1).sum(1).numpy()\n",
    "    \n",
    "s=np.sqrt(s/(len(dataset)*peso))\n",
    "\n",
    "print(\"Medie\",m)\n",
    "print(\"Dev. Std.\",s)"
   ]
  },
  {
   "cell_type": "code",
   "execution_count": 4,
   "id": "f202c51d",
   "metadata": {},
   "outputs": [],
   "source": [
    "class AverageValueMeter():\n",
    "    def __init__(self):\n",
    "        self.reset()\n",
    "        \n",
    "    def reset(self):\n",
    "        self.sum = 0\n",
    "        self.num = 0\n",
    "        \n",
    "    def add(self, value, num):\n",
    "        self.sum += value*num\n",
    "        self.num += num\n",
    "        \n",
    "    def value(self):\n",
    "        try :\n",
    "            return self.sum/ self.num\n",
    "        except :\n",
    "            return None"
   ]
  },
  {
   "cell_type": "code",
   "execution_count": 5,
   "id": "3b522670",
   "metadata": {},
   "outputs": [],
   "source": [
    "def train_classifier(model, train_loader, test_loader, exp_name='experiment' ,\n",
    "                     lr=0.01, epochs=10, momentum=0.99, logdir='logs'):\n",
    "    criterion = nn.CrossEntropyLoss()\n",
    "    optimizer = SGD(model.parameters(), lr, momentum=momentum)\n",
    "    #meters\n",
    "    loss_meter = AverageValueMeter()\n",
    "    acc_meter = AverageValueMeter()\n",
    "    #writer\n",
    "    writer = SummaryWriter(join(logdir, exp_name))\n",
    "    #device\n",
    "    device = \"cuda\" if torch.cuda.is_available() else \"cpu\"\n",
    "    model.to(device)\n",
    "    #definiamo un dizionario contenente i Loader di training e test\n",
    "    loader = {\n",
    "        'train' : train_loader,\n",
    "        'test' : test_loader\n",
    "    }\n",
    "    #iniziaLizziamo iL global step\n",
    "    global_step = 0\n",
    "    for e in range(epochs):\n",
    "        #iteriamo tra due modalità: train e test\n",
    "        for mode in ['train' , 'test']:\n",
    "            loss_meter.reset(); acc_meter.reset()\n",
    "            model.train() if mode == 'train' else model.eval()\n",
    "            with torch.set_grad_enabled(mode=='train'): #abiLitiamo i gradienti SOLO in training\n",
    "                for i, batch in enumerate(loader[mode]):\n",
    "                    x=batch[0].to(device) #\"portiamoLi sul device corretto\"\n",
    "                    y=batch[1].to(device)\n",
    "                    output = model(x)\n",
    "                    \n",
    "                    #aggiorniamo iL gLobaL_step\n",
    "                    #conterrà iL numero di campioni visti durante iL training\n",
    "                    n = x.shape[0] #numero di elementi nel batch\n",
    "                    global_step += n\n",
    "                    l = criterion(output, y)\n",
    "                    \n",
    "                    if mode=='train' :\n",
    "                        l.backward()\n",
    "                        optimizer.step( )\n",
    "                        optimizer.zero_grad ( )\n",
    "                    \n",
    "                    acc = accuracy_score(y.to('cpu '),output.to(' cpu').max(1)[1])\n",
    "                    loss_meter.add(l.item(), n)\n",
    "                    acc_meter.add(acc,n)\n",
    "                    \n",
    "                    #Loggiamo i risultati iterazione per iterazione SOLO durante iL training\n",
    "                    if mode=='train' :\n",
    "                        writer.add_scalar( ' loss/train ' ,loss_meter.value(), global_step=global_step)\n",
    "                        writer.add_scalar( 'accuracy/train' ,acc_meter.value(), global_step=global_step)            \n",
    "                #una voLta finita L 'epoca (sia nel caso di training che test, Loggiamo Le stime finali)\n",
    "                writer.add_scalar( 'loss/' + mode, loss_meter.value(), global_step=global_step)\n",
    "                writer.add_scalar( 'accuracy/' + mode, acc_meter.value(), global_step=global_step)\n",
    "        #conserviamo i pesi del model Lo aLLa fine di un ciclo di training e test\n",
    "        torch. save(model.state_dict(), '%s-%d.pth'%(exp_name,e+1))\n",
    "    return model"
   ]
  },
  {
   "cell_type": "code",
   "execution_count": 6,
   "id": "0286be86",
   "metadata": {},
   "outputs": [],
   "source": [
    "class LeNetColor(nn.Module):\n",
    "    def __init__ (self):\n",
    "        super(LeNetColor, self).__init__()\n",
    "        #ridefiniamo iL modeLLo utilizzando i moduli sequentiaL.\n",
    "        #ne definiamo due: un \"feature extractor\", che estrae Le feature maps\n",
    "        #e un \"classificatore\" che implementa i LiveLLy FC\n",
    "        self.feature_extractor = nn.Sequential(\n",
    "            nn.Conv2d(3, 18, 5), #Input: 3 x 32 x 32. Ouput: 18 x 28 x 28\n",
    "            nn.MaxPool2d(2), #Input: 18 x 28 x 28. Output: 18 x 14 x 14\n",
    "            nn.ReLU(),\n",
    "            nn.Conv2d(18, 28, 5), #lnput 18 x 14 x 14. Output: 28 x le x le\n",
    "            nn.MaxPool2d(2), #Input 28 x le x le. Output: 28 x 5 x 5\n",
    "            nn.ReLU()\n",
    "        )    \n",
    "            \n",
    "        self.classifier = nn.Sequential(\n",
    "            nn.Linear(700, 360), #rnput: 28 * 5 * 5\n",
    "            nn.ReLU(),\n",
    "            nn.Linear(360, 252),\n",
    "            nn.ReLU(),\n",
    "            nn.Linear(252, 100)\n",
    "        )\n",
    "        \n",
    "    def forward(self,x):\n",
    "        #AppLichiamo Le diverse trasformazioni in cascata\n",
    "        x = self.feature_extractor(x)\n",
    "        x = self.classifier(x.view(x.shape[0],-1))\n",
    "        return x"
   ]
  },
  {
   "cell_type": "code",
   "execution_count": 7,
   "id": "d568baca",
   "metadata": {},
   "outputs": [],
   "source": [
    "dataset_loader = DataLoader(dataset, batch_size=1024, num_workers=2, shuffle=True)\n",
    "#cifar100_test_loader = DataLoader(cifar100_test, batch_size=1024, num_workers=2)\n",
    "datatrain_loader = DataLoader(datatrain, batch_size=1024, num_workers=2, shuffle=True)\n",
    "#cifar100_test_loader = DataLoader(cifar100_test, batch_size=1024, num_workers=2)"
   ]
  },
  {
   "cell_type": "code",
   "execution_count": null,
   "id": "d2188aad",
   "metadata": {},
   "outputs": [],
   "source": [
    "lenet_dataset = LeNetColor()\n",
    "lenet_dataset = train_classifier(lenet_dataset, dataset_loader, datatrain_loader, \\\n",
    "                                 'lenet_dataset', epochs=1)"
   ]
  },
  {
   "cell_type": "code",
   "execution_count": null,
   "id": "55157398",
   "metadata": {},
   "outputs": [],
   "source": []
  }
 ],
 "metadata": {
  "kernelspec": {
   "display_name": "Python 3 (ipykernel)",
   "language": "python",
   "name": "python3"
  },
  "language_info": {
   "codemirror_mode": {
    "name": "ipython",
    "version": 3
   },
   "file_extension": ".py",
   "mimetype": "text/x-python",
   "name": "python",
   "nbconvert_exporter": "python",
   "pygments_lexer": "ipython3",
   "version": "3.9.13"
  }
 },
 "nbformat": 4,
 "nbformat_minor": 5
}
