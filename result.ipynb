{
 "cells": [
  {
   "cell_type": "code",
   "execution_count": 1,
   "id": "57043deb",
   "metadata": {},
   "outputs": [],
   "source": [
    "import nbimporter\n",
    "import Dataset as Dataset\n",
    "import torch\n",
    "import torchvision\n",
    "import numpy as np\n",
    "import matplotlib.pyplot as plt\n",
    "from PIL import Image\n",
    "import requests\n",
    "from io import BytesIO\n",
    "\n",
    "from torchvision import transforms\n",
    "import os\n",
    "\n",
    "\n",
    "import python_file.dataclass as StreetSign\n",
    "import python_file.function as Function\n",
    "import python_file.network as Network\n"
   ]
  },
  {
   "cell_type": "code",
   "execution_count": 2,
   "id": "b7f12704",
   "metadata": {},
   "outputs": [
    {
     "data": {
      "text/plain": [
       "MiniAlexNetV2(\n",
       "  (feature_extractor): Sequential(\n",
       "    (0): Conv2d(3, 16, kernel_size=(5, 5), stride=(1, 1), padding=(2, 2))\n",
       "    (1): MaxPool2d(kernel_size=2, stride=2, padding=0, dilation=1, ceil_mode=False)\n",
       "    (2): ReLU()\n",
       "    (3): BatchNorm2d(16, eps=1e-05, momentum=0.1, affine=True, track_running_stats=True)\n",
       "    (4): Conv2d(16, 32, kernel_size=(5, 5), stride=(1, 1), padding=(2, 2))\n",
       "    (5): MaxPool2d(kernel_size=2, stride=2, padding=0, dilation=1, ceil_mode=False)\n",
       "    (6): ReLU()\n",
       "    (7): BatchNorm2d(32, eps=1e-05, momentum=0.1, affine=True, track_running_stats=True)\n",
       "    (8): Conv2d(32, 64, kernel_size=(3, 3), stride=(1, 1), padding=(1, 1))\n",
       "    (9): ReLU()\n",
       "    (10): BatchNorm2d(64, eps=1e-05, momentum=0.1, affine=True, track_running_stats=True)\n",
       "    (11): Conv2d(64, 128, kernel_size=(3, 3), stride=(1, 1), padding=(1, 1))\n",
       "    (12): ReLU()\n",
       "    (13): BatchNorm2d(128, eps=1e-05, momentum=0.1, affine=True, track_running_stats=True)\n",
       "    (14): Conv2d(128, 256, kernel_size=(3, 3), stride=(1, 1), padding=(1, 1))\n",
       "    (15): MaxPool2d(kernel_size=2, stride=2, padding=0, dilation=1, ceil_mode=False)\n",
       "    (16): ReLU()\n",
       "  )\n",
       "  (classifier): Sequential(\n",
       "    (0): Dropout(p=0.5, inplace=False)\n",
       "    (1): BatchNorm1d(4096, eps=1e-05, momentum=0.1, affine=True, track_running_stats=True)\n",
       "    (2): Linear(in_features=4096, out_features=2048, bias=True)\n",
       "    (3): ReLU()\n",
       "    (4): Dropout(p=0.5, inplace=False)\n",
       "    (5): BatchNorm1d(2048, eps=1e-05, momentum=0.1, affine=True, track_running_stats=True)\n",
       "    (6): Linear(in_features=2048, out_features=1024, bias=True)\n",
       "    (7): ReLU()\n",
       "    (8): BatchNorm1d(1024, eps=1e-05, momentum=0.1, affine=True, track_running_stats=True)\n",
       "    (9): Linear(in_features=1024, out_features=100, bias=True)\n",
       "  )\n",
       ")"
      ]
     },
     "execution_count": 2,
     "metadata": {},
     "output_type": "execute_result"
    }
   ],
   "source": [
    "model = Network.MiniAlexNetV2()\n",
    "model.load_state_dict(torch.load('modelli\\minialexnetv2_dataset-100.pth'))\n",
    "model.eval()"
   ]
  },
  {
   "cell_type": "raw",
   "id": "c859d93b",
   "metadata": {},
   "source": [
    "import torchvision.transforms as transforms\n",
    "\n",
    "img = Image.open(\"image\\images.png\")\n",
    "transform = transforms.ToTensor()\n",
    "img_t = transform(img)\n",
    "\n",
    "print(\"Shape of img_t:\", img_t.shape)\n"
   ]
  },
  {
   "cell_type": "raw",
   "id": "36a6e9fa",
   "metadata": {},
   "source": [
    "from PIL import Image\n",
    "import requests\n",
    "from io import BytesIO\n",
    "\n",
    "# Scarica l'immagine dall'URL\n",
    "url = \"https://media.istockphoto.com/id/178748186/it/foto/milano.jpg?s=612x612&w=0&k=20&c=BuIy0rfZhncc4KHOkzShMYptkVFDqYbFVEA7fN_F6h4=\"\n",
    "response = requests.get(url)\n",
    "image_bytes = BytesIO(response.content)\n",
    "\n",
    "# Apri l'immagine con PIL\n",
    "img = Image.open(image_bytes).convert('RGB')\n",
    "\n",
    "# Verifica la forma dell'immagine\n",
    "img_shape = img.size\n",
    "\n",
    "# Se l'immagine ha un formato errato (altezza, larghezza), invertilo\n",
    "if img_shape[0] > img_shape[1]:\n",
    "    img = img.transpose(Image.Transpose.ROTATE_90)\n",
    "\n",
    "# Verifica nuovamente la forma dell'immagine dopo l'inversione\n",
    "img_shape = img.size\n",
    "print(\"Shape of img:\", img_shape)\n"
   ]
  },
  {
   "cell_type": "code",
   "execution_count": 3,
   "id": "cb224a7b",
   "metadata": {},
   "outputs": [
    {
     "data": {
      "image/png": "[encoded data removed]",
      "text/plain": [
       "<PIL.PngImagePlugin.PngImageFile image mode=RGB size=58x59>"
      ]
     },
     "execution_count": 3,
     "metadata": {},
     "output_type": "execute_result"
    }
   ],
   "source": [
    "img = Image.open(\"DITS-full\\DITS-full\\DITS-detection\\class\\image\\\\100.png\")\n",
    "img\n"
   ]
  },
  {
   "cell_type": "code",
   "execution_count": 4,
   "id": "39335eb4",
   "metadata": {},
   "outputs": [],
   "source": [
    "transform = transforms.Compose([transforms.Resize(32),transforms.ToTensor()])\n",
    "img_t = transform(img)"
   ]
  },
  {
   "cell_type": "code",
   "execution_count": 5,
   "id": "7e6d9182",
   "metadata": {},
   "outputs": [],
   "source": [
    "# Definisci le dimensioni di input previste dal tuo modello\n",
    "input_height = 32\n",
    "input_width = 32\n",
    "\n",
    "mean = 0.6529\n",
    "std = 0.3422\n",
    "\n",
    "# Applica le trasformazioni alle dimensioni desiderate\n",
    "preprocess = transforms.Compose([\n",
    "    transforms.Resize((input_height, input_width)),\n",
    "    transforms.ToTensor(),  # Converte l'immagine in un tensore PyTorch\n",
    "    #transforms.Normalize(mean, std),\n",
    "])\n",
    "\n",
    "img_t = preprocess(img)  # Ora img_tensor è un tensore PyTorch valido\n",
    "\n",
    "# Assicurati che img_tensor sia 4D (batch_size, canali, altezza, larghezza)\n",
    "img_t = img_t.unsqueeze(0)  # Aggiunge una dimensione di batch\n",
    "\n",
    "# Seleziona solo i primi 3 canali (RGB)\n",
    "img_t = img_t[:, :3, :, :]\n",
    "\n",
    "# Ora puoi passare img_tensor al modello\n",
    "output = model(img_t).detach().numpy().argmax()"
   ]
  },
  {
   "cell_type": "code",
   "execution_count": 6,
   "id": "eb28c534",
   "metadata": {},
   "outputs": [
    {
     "name": "stdout",
     "output_type": "stream",
     "text": [
      "1\n",
      "prohibitory\n"
     ]
    }
   ],
   "source": [
    "print(output)\n",
    "\n",
    "if (output == 0):\n",
    "    print(\"indicatory\")\n",
    "\n",
    "elif (output == 1):\n",
    "    print(\"prohibitory\")\n",
    "    \n",
    "elif (output == 2):\n",
    "    print(\"warning\")\n",
    "    \n",
    "else:\n",
    "    print(\"ERROR 404 NOT FOUND\")"
   ]
  },
  {
   "cell_type": "raw",
   "id": "419a0351",
   "metadata": {},
   "source": [
    "pred = output\n",
    "print(\"CNN predictions: \", output)"
   ]
  },
  {
   "cell_type": "raw",
   "id": "78470f1e",
   "metadata": {},
   "source": [
    "pred_dict = pred[0]\n",
    "\n",
    "# Estrai le informazioni di interesse dal tensore\n",
    "boxes = pred[:, :4]  # Le prime 4 colonne potrebbero rappresentare i bounding box\n",
    "labels = pred[:, 4]  # La quinta colonna potrebbe rappresentare le etichette\n",
    "scores = pred[:, 5:]  # Le colonne dalla sesta in poi potrebbero rappresentare gli score\n",
    "\n",
    "# Converti i tensori PyTorch in numpy arrays\n",
    "boxes = boxes.detach().numpy()\n",
    "labels = labels.detach().numpy()\n",
    "scores = scores.detach().numpy()\n",
    "\n",
    "\n",
    "print(\"Predizione con lo score più alto: \\n bounding box:\\t \", boxes[0], \"\\n Classe:\\t\", labels[0], \"\\n score:\\t\", scores[0])"
   ]
  },
  {
   "cell_type": "raw",
   "id": "3ef990fd",
   "metadata": {},
   "source": [
    "threshold = 0.5\n",
    "idx = np.where(abs(scores) > threshold)[0]\n",
    "boxes = boxes[idx]\n",
    "labels = labels[idx]\n",
    "scores = scores[idx]"
   ]
  },
  {
   "cell_type": "raw",
   "id": "fc520e49",
   "metadata": {},
   "source": [
    "plt.figure(figsize=(12,8))\n",
    "plt.imshow(img)\n",
    "ax = plt.gca()\n",
    "for box, label, score in zip(boxes, labels, scores):\n",
    "    x1, y1, x2, y2 = box\n",
    "    w = x2 - x1\n",
    "    h = y2 - y1\n",
    "    if isinstance(label, (list, np.ndarray)):\n",
    "        label = label[0]  # Se label è un array, prendi il primo elemento\n",
    "\n",
    "    if isinstance(score, (list, np.ndarray)):\n",
    "        score = score[0]  # Se score è un array, prendi il primo elemento\n",
    "\n",
    "    label = int(label)  # Converti l'etichetta in un intero\n",
    "    ax.add_patch(plt.Rectangle((x1, y1), w, h, fill=False, color=\"red\"))\n",
    "    ax.text(x1, y1, \"Class {}: {:.2f}\".format(label, score), fontsize=15, color=\"white\", bbox=dict(facecolor=\"red\", alpha=0.5))\n",
    "\n",
    "plt.show()"
   ]
  },
  {
   "cell_type": "raw",
   "id": "df3fefc5",
   "metadata": {},
   "source": [
    "category_map = {\n",
    "    1: 'indication',\n",
    "    2: 'prohibitory',\n",
    "    3: 'warning'\n",
    "}"
   ]
  },
  {
   "cell_type": "raw",
   "id": "358e49d2",
   "metadata": {},
   "source": [
    "plt.figure(figsize=(12,8))\n",
    "plt.imshow(img)\n",
    "ax = plt.gca()\n",
    "for box, label, score in zip(boxes, labels, scores):\n",
    "    x1, y1, x2, y2 = box\n",
    "    w = x2 - x1\n",
    "    h = y2 - y1\n",
    "    rect = plt.Rectangle((x1, y1), w, h, fill=False, color=\"red\")\n",
    "    ax.add_patch(rect)\n",
    "    ax.text(x1, y1, f\"{category_map[label]}: {score:.2f}\", fontsize=15, color=\"white\", bbox=dict(facecolor=\"red\", alpha=0.5))\n",
    "plt.show()"
   ]
  }
 ],
 "metadata": {
  "kernelspec": {
   "display_name": "Python 3 (ipykernel)",
   "language": "python",
   "name": "python3"
  },
  "language_info": {
   "codemirror_mode": {
    "name": "ipython",
    "version": 3
   },
   "file_extension": ".py",
   "mimetype": "text/x-python",
   "name": "python",
   "nbconvert_exporter": "python",
   "pygments_lexer": "ipython3",
   "version": "3.9.13"
  }
 },
 "nbformat": 4,
 "nbformat_minor": 5
}
