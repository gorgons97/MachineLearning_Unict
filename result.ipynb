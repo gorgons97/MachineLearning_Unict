{
 "cells": [
  {
   "cell_type": "code",
   "execution_count": 1,
   "id": "57043deb",
   "metadata": {},
   "outputs": [],
   "source": [
    "import nbimporter\n",
    "import torch\n",
    "import torchvision\n",
    "import numpy as np\n",
    "import matplotlib.pyplot as plt\n",
    "from PIL import Image\n",
    "import requests\n",
    "from io import BytesIO\n",
    "\n",
    "from torchvision import transforms\n",
    "import os\n",
    "\n",
    "\n",
    "import python_file.dataclass as StreetSign\n",
    "import python_file.function as Function\n",
    "import python_file.network as Network\n"
   ]
  },
  {
   "cell_type": "code",
   "execution_count": 2,
   "id": "b7f12704",
   "metadata": {},
   "outputs": [
    {
     "data": {
      "text/plain": [
       "MiniAlexNetV2(\n",
       "  (feature_extractor): Sequential(\n",
       "    (0): Conv2d(3, 16, kernel_size=(5, 5), stride=(1, 1), padding=(2, 2))\n",
       "    (1): MaxPool2d(kernel_size=2, stride=2, padding=0, dilation=1, ceil_mode=False)\n",
       "    (2): ReLU()\n",
       "    (3): BatchNorm2d(16, eps=1e-05, momentum=0.1, affine=True, track_running_stats=True)\n",
       "    (4): Conv2d(16, 32, kernel_size=(5, 5), stride=(1, 1), padding=(2, 2))\n",
       "    (5): MaxPool2d(kernel_size=2, stride=2, padding=0, dilation=1, ceil_mode=False)\n",
       "    (6): ReLU()\n",
       "    (7): BatchNorm2d(32, eps=1e-05, momentum=0.1, affine=True, track_running_stats=True)\n",
       "    (8): Conv2d(32, 64, kernel_size=(3, 3), stride=(1, 1), padding=(1, 1))\n",
       "    (9): ReLU()\n",
       "    (10): BatchNorm2d(64, eps=1e-05, momentum=0.1, affine=True, track_running_stats=True)\n",
       "    (11): Conv2d(64, 128, kernel_size=(3, 3), stride=(1, 1), padding=(1, 1))\n",
       "    (12): ReLU()\n",
       "    (13): BatchNorm2d(128, eps=1e-05, momentum=0.1, affine=True, track_running_stats=True)\n",
       "    (14): Conv2d(128, 256, kernel_size=(3, 3), stride=(1, 1), padding=(1, 1))\n",
       "    (15): MaxPool2d(kernel_size=2, stride=2, padding=0, dilation=1, ceil_mode=False)\n",
       "    (16): ReLU()\n",
       "  )\n",
       "  (classifier): Sequential(\n",
       "    (0): Dropout(p=0.5, inplace=False)\n",
       "    (1): BatchNorm1d(4096, eps=1e-05, momentum=0.1, affine=True, track_running_stats=True)\n",
       "    (2): Linear(in_features=4096, out_features=2048, bias=True)\n",
       "    (3): ReLU()\n",
       "    (4): Dropout(p=0.5, inplace=False)\n",
       "    (5): BatchNorm1d(2048, eps=1e-05, momentum=0.1, affine=True, track_running_stats=True)\n",
       "    (6): Linear(in_features=2048, out_features=1024, bias=True)\n",
       "    (7): ReLU()\n",
       "    (8): BatchNorm1d(1024, eps=1e-05, momentum=0.1, affine=True, track_running_stats=True)\n",
       "    (9): Linear(in_features=1024, out_features=100, bias=True)\n",
       "  )\n",
       ")"
      ]
     },
     "execution_count": 2,
     "metadata": {},
     "output_type": "execute_result"
    }
   ],
   "source": [
    "model = Network.MiniAlexNetV2()\n",
    "model.load_state_dict(torch.load('modelli\\minialexnetv2_dataset-200.pth'))\n",
    "model.eval()"
   ]
  },
  {
   "cell_type": "code",
   "execution_count": 3,
   "id": "0a9120d6",
   "metadata": {},
   "outputs": [
    {
     "data": {
      "text/plain": [
       "MiniAlexNet(\n",
       "  (feature_extractor): Sequential(\n",
       "    (0): Conv2d(3, 16, kernel_size=(5, 5), stride=(1, 1), padding=(2, 2))\n",
       "    (1): MaxPool2d(kernel_size=2, stride=2, padding=0, dilation=1, ceil_mode=False)\n",
       "    (2): ReLU()\n",
       "    (3): Conv2d(16, 32, kernel_size=(5, 5), stride=(1, 1), padding=(2, 2))\n",
       "    (4): MaxPool2d(kernel_size=2, stride=2, padding=0, dilation=1, ceil_mode=False)\n",
       "    (5): ReLU()\n",
       "    (6): Conv2d(32, 64, kernel_size=(3, 3), stride=(1, 1), padding=(1, 1))\n",
       "    (7): ReLU()\n",
       "    (8): Conv2d(64, 128, kernel_size=(3, 3), stride=(1, 1), padding=(1, 1))\n",
       "    (9): ReLU()\n",
       "    (10): Conv2d(128, 256, kernel_size=(3, 3), stride=(1, 1), padding=(1, 1))\n",
       "    (11): MaxPool2d(kernel_size=2, stride=2, padding=0, dilation=1, ceil_mode=False)\n",
       "    (12): ReLU()\n",
       "  )\n",
       "  (classifier): Sequential(\n",
       "    (0): Linear(in_features=4096, out_features=2048, bias=True)\n",
       "    (1): ReLU()\n",
       "    (2): Linear(in_features=2048, out_features=1024, bias=True)\n",
       "    (3): ReLU()\n",
       "    (4): Linear(in_features=1024, out_features=100, bias=True)\n",
       "  )\n",
       ")"
      ]
     },
     "execution_count": 3,
     "metadata": {},
     "output_type": "execute_result"
    }
   ],
   "source": [
    "model1 = Network.MiniAlexNet()\n",
    "model1.load_state_dict(torch.load('modelli\\minialexnet_dataset-100.pth'))\n",
    "model1.eval()"
   ]
  },
  {
   "cell_type": "code",
   "execution_count": 4,
   "id": "6ff9cc95",
   "metadata": {},
   "outputs": [
    {
     "data": {
      "text/plain": [
       "LeNetColor(\n",
       "  (feature_extractor): Sequential(\n",
       "    (0): Conv2d(3, 18, kernel_size=(5, 5), stride=(1, 1))\n",
       "    (1): MaxPool2d(kernel_size=2, stride=2, padding=0, dilation=1, ceil_mode=False)\n",
       "    (2): ReLU()\n",
       "    (3): Conv2d(18, 28, kernel_size=(5, 5), stride=(1, 1))\n",
       "    (4): MaxPool2d(kernel_size=2, stride=2, padding=0, dilation=1, ceil_mode=False)\n",
       "    (5): ReLU()\n",
       "  )\n",
       "  (classifier): Sequential(\n",
       "    (0): Linear(in_features=700, out_features=360, bias=True)\n",
       "    (1): ReLU()\n",
       "    (2): Linear(in_features=360, out_features=252, bias=True)\n",
       "    (3): ReLU()\n",
       "    (4): Linear(in_features=252, out_features=100, bias=True)\n",
       "  )\n",
       ")"
      ]
     },
     "execution_count": 4,
     "metadata": {},
     "output_type": "execute_result"
    }
   ],
   "source": [
    "model2 = Network.LeNetColor()\n",
    "model2.load_state_dict(torch.load('modelli\\lenet_dataset-100.pth'))\n",
    "model2.eval()"
   ]
  },
  {
   "cell_type": "markdown",
   "id": "9c32b780",
   "metadata": {},
   "source": [
    "Per  testare la nostra rete possiamo usare le immagini presenti nella cartella \"DITS-full\\DITS-full\\DITS-detection\\class\\image\\\", che sono numerate da 1 a 1356. \n",
    "Oppure si può usare una qualsiasi immagine presa da internet come nell'esempio in cui si utilizzerà l'immagine \"image\\image.jpeg\""
   ]
  },
  {
   "cell_type": "code",
   "execution_count": 22,
   "id": "cb224a7b",
   "metadata": {},
   "outputs": [
    {
     "data": {
      "image/png": "[encoded data removed]",
      "text/plain": [
       "<PIL.PngImagePlugin.PngImageFile image mode=RGB size=45x45>"
      ]
     },
     "execution_count": 22,
     "metadata": {},
     "output_type": "execute_result"
    }
   ],
   "source": [
    "img = Image.open(\"DITS-full\\DITS-full\\DITS-detection\\class\\image\\\\736.png\")\n",
    "img\n"
   ]
  },
  {
   "cell_type": "code",
   "execution_count": 23,
   "id": "39335eb4",
   "metadata": {},
   "outputs": [],
   "source": [
    "transform = transforms.Compose([transforms.Resize(32),transforms.ToTensor()])\n",
    "img_t = transform(img)"
   ]
  },
  {
   "cell_type": "code",
   "execution_count": 24,
   "id": "7e6d9182",
   "metadata": {},
   "outputs": [],
   "source": [
    "# Definisci le dimensioni di input previste dal tuo modello\n",
    "input_height = 32\n",
    "input_width = 32\n",
    "\n",
    "mean = 0.6529\n",
    "std = 0.3422\n",
    "\n",
    "# Applica le trasformazioni alle dimensioni desiderate\n",
    "preprocess = transforms.Compose([\n",
    "    transforms.Resize((input_height, input_width)),\n",
    "    transforms.ToTensor(),  # Converte l'immagine in un tensore PyTorch\n",
    "    #transforms.Normalize(mean, std),\n",
    "])\n",
    "\n",
    "img_t = preprocess(img)  # Ora img_tensor è un tensore PyTorch valido\n",
    "\n",
    "# Assicurati che img_tensor sia 4D (batch_size, canali, altezza, larghezza)\n",
    "img_t = img_t.unsqueeze(0)  # Aggiunge una dimensione di batch\n",
    "\n",
    "# Seleziona solo i primi 3 canali (RGB)\n",
    "img_t = img_t[:, :3, :, :]\n",
    "\n",
    "# Ora puoi passare img_tensor al modello\n",
    "output = model(img_t).detach().numpy().argmax()\n",
    "\n",
    "# Ora puoi passare img_tensor al modello\n",
    "output1 = model1(img_t).detach().numpy().argmax()\n",
    "\n",
    "# Ora puoi passare img_tensor al modello\n",
    "output2 = model2(img_t).detach().numpy().argmax()"
   ]
  },
  {
   "cell_type": "code",
   "execution_count": 25,
   "id": "eb28c534",
   "metadata": {},
   "outputs": [
    {
     "name": "stdout",
     "output_type": "stream",
     "text": [
      "MinialexnetV2 2\n",
      "Minialexnet 1\n",
      "LeNet 2\n",
      "\n",
      "\n",
      "Il risultato della MiniAlexNetV2 è Warning\n"
     ]
    }
   ],
   "source": [
    "print(\"MinialexnetV2\",output)\n",
    "print(\"Minialexnet\",output1)\n",
    "print(\"LeNet\",output2)\n",
    "\n",
    "if (output == 0):\n",
    "    print(\"\\n\\nIl risultato della MiniAlexNetV2 è Indicatory\")\n",
    "\n",
    "elif (output == 1):\n",
    "    print(\"\\n\\nIl risultato della MiniAlexNetV2 è Prohibitory\")\n",
    "    \n",
    "elif (output == 2):\n",
    "    print(\"\\n\\nIl risultato della MiniAlexNetV2 è Warning\")\n",
    "    \n",
    "else:\n",
    "    print(\"ERROR 404 NOT FOUND\")"
   ]
  },
  {
   "cell_type": "code",
   "execution_count": null,
   "id": "cebc6817",
   "metadata": {},
   "outputs": [],
   "source": []
  }
 ],
 "metadata": {
  "kernelspec": {
   "display_name": "Python 3 (ipykernel)",
   "language": "python",
   "name": "python3"
  },
  "language_info": {
   "codemirror_mode": {
    "name": "ipython",
    "version": 3
   },
   "file_extension": ".py",
   "mimetype": "text/x-python",
   "name": "python",
   "nbconvert_exporter": "python",
   "pygments_lexer": "ipython3",
   "version": "3.9.13"
  }
 },
 "nbformat": 4,
 "nbformat_minor": 5
}
