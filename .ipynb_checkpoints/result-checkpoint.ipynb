{
 "cells": [
  {
   "cell_type": "code",
   "execution_count": 1,
   "id": "57043deb",
   "metadata": {},
   "outputs": [],
   "source": [
    "import nbimporter\n",
    "import Dataset as Dataset\n",
    "import torch\n",
    "import torchvision\n",
    "import numpy as np\n",
    "import matplotlib.pyplot as plt\n",
    "from PIL import Image\n",
    "import requests\n",
    "from io import BytesIO\n",
    "\n",
    "from torchvision import transforms\n",
    "import os\n",
    "\n",
    "\n",
    "import python_file.dataclass as StreetSign\n",
    "import python_file.function as Function\n",
    "import python_file.network as Network\n"
   ]
  },
  {
   "cell_type": "code",
   "execution_count": 50,
   "id": "b7f12704",
   "metadata": {},
   "outputs": [
    {
     "data": {
      "text/plain": [
       "LeNetColor(\n",
       "  (feature_extractor): Sequential(\n",
       "    (0): Conv2d(3, 18, kernel_size=(5, 5), stride=(1, 1))\n",
       "    (1): MaxPool2d(kernel_size=2, stride=2, padding=0, dilation=1, ceil_mode=False)\n",
       "    (2): ReLU()\n",
       "    (3): Conv2d(18, 28, kernel_size=(5, 5), stride=(1, 1))\n",
       "    (4): MaxPool2d(kernel_size=2, stride=2, padding=0, dilation=1, ceil_mode=False)\n",
       "    (5): ReLU()\n",
       "  )\n",
       "  (classifier): Sequential(\n",
       "    (0): Linear(in_features=700, out_features=360, bias=True)\n",
       "    (1): ReLU()\n",
       "    (2): Linear(in_features=360, out_features=252, bias=True)\n",
       "    (3): ReLU()\n",
       "    (4): Linear(in_features=252, out_features=100, bias=True)\n",
       "  )\n",
       ")"
      ]
     },
     "execution_count": 50,
     "metadata": {},
     "output_type": "execute_result"
    }
   ],
   "source": [
    "model = Network.MiniAlexNetV2()\n",
    "model.load_state_dict(torch.load('modelli\\minialexnetV2_dataset-50.pth'))\n",
    "model.eval()"
   ]
  },
  {
   "cell_type": "raw",
   "id": "c859d93b",
   "metadata": {},
   "source": [
    "import torchvision.transforms as transforms\n",
    "\n",
    "img = Image.open(\"image\\images.png\")\n",
    "transform = transforms.ToTensor()\n",
    "img_t = transform(img)\n",
    "\n",
    "print(\"Shape of img_t:\", img_t.shape)\n"
   ]
  },
  {
   "cell_type": "raw",
   "id": "36a6e9fa",
   "metadata": {},
   "source": [
    "from PIL import Image\n",
    "import requests\n",
    "from io import BytesIO\n",
    "\n",
    "# Scarica l'immagine dall'URL\n",
    "url = \"https://media.istockphoto.com/id/178748186/it/foto/milano.jpg?s=612x612&w=0&k=20&c=BuIy0rfZhncc4KHOkzShMYptkVFDqYbFVEA7fN_F6h4=\"\n",
    "response = requests.get(url)\n",
    "image_bytes = BytesIO(response.content)\n",
    "\n",
    "# Apri l'immagine con PIL\n",
    "img = Image.open(image_bytes).convert('RGB')\n",
    "\n",
    "# Verifica la forma dell'immagine\n",
    "img_shape = img.size\n",
    "\n",
    "# Se l'immagine ha un formato errato (altezza, larghezza), invertilo\n",
    "if img_shape[0] > img_shape[1]:\n",
    "    img = img.transpose(Image.Transpose.ROTATE_90)\n",
    "\n",
    "# Verifica nuovamente la forma dell'immagine dopo l'inversione\n",
    "img_shape = img.size\n",
    "print(\"Shape of img:\", img_shape)\n"
   ]
  },
  {
   "cell_type": "code",
   "execution_count": 51,
   "id": "cb224a7b",
   "metadata": {},
   "outputs": [
    {
     "data": {
      "image/png": "[encoded data removed]",
      "text/plain": [
       "<PIL.PngImagePlugin.PngImageFile image mode=RGB size=51x54>"
      ]
     },
     "execution_count": 51,
     "metadata": {},
     "output_type": "execute_result"
    }
   ],
   "source": [
    "img = Image.open(\"image\\\\31.png\")\n",
    "img\n"
   ]
  },
  {
   "cell_type": "code",
   "execution_count": 52,
   "id": "39335eb4",
   "metadata": {},
   "outputs": [],
   "source": [
    "transform = transforms.Compose([transforms.Resize(32),transforms.ToTensor()])\n",
    "img_t = transform(img)"
   ]
  },
  {
   "cell_type": "code",
   "execution_count": 53,
   "id": "7e6d9182",
   "metadata": {},
   "outputs": [],
   "source": [
    "# Definisci le dimensioni di input previste dal tuo modello\n",
    "input_height = 32\n",
    "input_width = 32\n",
    "\n",
    "# Applica le trasformazioni alle dimensioni desiderate\n",
    "preprocess = transforms.Compose([\n",
    "    transforms.Resize((input_height, input_width)),\n",
    "    transforms.ToTensor(),  # Converte l'immagine in un tensore PyTorch\n",
    "])\n",
    "\n",
    "img_t = preprocess(img)  # Ora img_tensor è un tensore PyTorch valido\n",
    "\n",
    "# Assicurati che img_tensor sia 4D (batch_size, canali, altezza, larghezza)\n",
    "img_t = img_t.unsqueeze(0)  # Aggiunge una dimensione di batch\n",
    "\n",
    "# Seleziona solo i primi 3 canali (RGB)\n",
    "img_t = img_t[:, :3, :, :]\n",
    "\n",
    "# Ora puoi passare img_tensor al modello\n",
    "output = model(img_t)"
   ]
  },
  {
   "cell_type": "code",
   "execution_count": 54,
   "id": "57b5e76c",
   "metadata": {},
   "outputs": [
    {
     "name": "stdout",
     "output_type": "stream",
     "text": [
      "CNN predictions:  tensor([[-7.2949e-02,  3.8032e-02,  7.3176e-02, -4.6156e-02,  1.4914e-02,\n",
      "         -6.7634e-03, -2.7047e-02, -8.0823e-02, -1.1994e-02,  1.0870e-02,\n",
      "         -2.7613e-02,  2.9751e-03,  3.4814e-02, -3.4686e-03, -1.7078e-02,\n",
      "          2.1575e-02,  3.3824e-02,  4.1657e-02,  3.9964e-02, -1.2461e-02,\n",
      "          5.0634e-02,  1.1844e-02, -3.2532e-02, -3.0834e-02, -1.6675e-02,\n",
      "         -6.6344e-03,  4.0486e-02, -2.9733e-02,  1.6997e-02, -2.2856e-02,\n",
      "         -1.2101e-02,  4.9337e-02, -5.1265e-02,  1.4158e-02,  7.2467e-02,\n",
      "          5.5287e-02, -3.6603e-02,  3.0524e-03, -1.1926e-02,  2.9313e-02,\n",
      "         -3.1241e-02, -5.0811e-02,  5.8222e-02,  3.4983e-02, -6.7100e-02,\n",
      "          4.0356e-02, -1.0432e-03, -5.1817e-02, -2.7861e-03,  6.4271e-02,\n",
      "         -1.2899e-02,  6.1827e-02, -4.8423e-02, -1.5811e-02, -1.5703e-02,\n",
      "          7.2703e-02, -3.7284e-02, -8.5628e-02, -3.0155e-02,  1.0152e-03,\n",
      "          3.9419e-02, -1.9872e-02, -4.9062e-06, -2.4260e-03,  3.9353e-02,\n",
      "         -3.6890e-02,  3.0198e-02,  1.7200e-02, -7.7401e-03, -8.7042e-02,\n",
      "         -2.9371e-02, -4.8806e-02, -7.3786e-03,  5.8847e-02,  5.3592e-02,\n",
      "          9.9277e-03, -1.7443e-02, -1.1352e-02, -4.3479e-02, -4.1842e-02,\n",
      "          5.7379e-02,  4.1668e-02,  7.4301e-02, -2.6645e-02,  2.0872e-02,\n",
      "         -4.1342e-02,  2.0285e-03, -3.6744e-02,  1.2673e-03, -1.2024e-02,\n",
      "          3.7147e-02, -1.9034e-02,  1.1735e-02,  1.3429e-02,  3.5346e-03,\n",
      "          7.6253e-03,  5.1388e-02,  7.5846e-03, -1.9104e-02, -7.4701e-02]],\n",
      "       grad_fn=<AddmmBackward0>)\n"
     ]
    }
   ],
   "source": [
    "pred = output\n",
    "print(\"CNN predictions: \", output)"
   ]
  },
  {
   "cell_type": "code",
   "execution_count": 55,
   "id": "e5a2bc76",
   "metadata": {},
   "outputs": [
    {
     "name": "stdout",
     "output_type": "stream",
     "text": [
      "Predizione con lo score più alto: \n",
      " bounding box:\t  [-0.07294858  0.03803198  0.07317641 -0.0461563 ] \n",
      " Classe:\t 0.014913987 \n",
      " score:\t [-6.7634154e-03 -2.7046897e-02 -8.0822974e-02 -1.1994290e-02\n",
      "  1.0870162e-02 -2.7613474e-02  2.9751118e-03  3.4814090e-02\n",
      " -3.4686071e-03 -1.7078035e-02  2.1574974e-02  3.3824284e-02\n",
      "  4.1656569e-02  3.9964054e-02 -1.2461372e-02  5.0633535e-02\n",
      "  1.1844344e-02 -3.2531600e-02 -3.0833580e-02 -1.6674541e-02\n",
      " -6.6344393e-03  4.0485583e-02 -2.9733194e-02  1.6996561e-02\n",
      " -2.2856148e-02 -1.2101496e-02  4.9337469e-02 -5.1264804e-02\n",
      "  1.4158271e-02  7.2467476e-02  5.5287130e-02 -3.6603104e-02\n",
      "  3.0523608e-03 -1.1925781e-02  2.9312704e-02 -3.1240633e-02\n",
      " -5.0811157e-02  5.8222242e-02  3.4982640e-02 -6.7100227e-02\n",
      "  4.0355563e-02 -1.0431698e-03 -5.1816538e-02 -2.7861162e-03\n",
      "  6.4271130e-02 -1.2898605e-02  6.1827414e-02 -4.8422605e-02\n",
      " -1.5811125e-02 -1.5702501e-02  7.2703384e-02 -3.7283730e-02\n",
      " -8.5628070e-02 -3.0155491e-02  1.0151658e-03  3.9419461e-02\n",
      " -1.9871833e-02 -4.9062073e-06 -2.4260357e-03  3.9352708e-02\n",
      " -3.6889549e-02  3.0198034e-02  1.7200386e-02 -7.7400571e-03\n",
      " -8.7042078e-02 -2.9371314e-02 -4.8806243e-02 -7.3785894e-03\n",
      "  5.8846541e-02  5.3591724e-02  9.9277040e-03 -1.7442556e-02\n",
      " -1.1351511e-02 -4.3479256e-02 -4.1841827e-02  5.7379231e-02\n",
      "  4.1668072e-02  7.4301437e-02 -2.6645187e-02  2.0872217e-02\n",
      " -4.1342188e-02  2.0284802e-03 -3.6743719e-02  1.2672665e-03\n",
      " -1.2023853e-02  3.7147138e-02 -1.9034136e-02  1.1734873e-02\n",
      "  1.3428864e-02  3.5345762e-03  7.6253377e-03  5.1387891e-02\n",
      "  7.5846147e-03 -1.9104222e-02 -7.4700758e-02]\n"
     ]
    }
   ],
   "source": [
    "pred_dict = pred[0]\n",
    "\n",
    "# Estrai le informazioni di interesse dal tensore\n",
    "boxes = pred[:, :4]  # Le prime 4 colonne potrebbero rappresentare i bounding box\n",
    "labels = pred[:, 4]  # La quinta colonna potrebbe rappresentare le etichette\n",
    "scores = pred[:, 5:]  # Le colonne dalla sesta in poi potrebbero rappresentare gli score\n",
    "\n",
    "# Converti i tensori PyTorch in numpy arrays\n",
    "boxes = boxes.detach().numpy()\n",
    "labels = labels.detach().numpy()\n",
    "scores = scores.detach().numpy()\n",
    "\n",
    "\n",
    "print(\"Predizione con lo score più alto: \\n bounding box:\\t \", boxes[0], \"\\n Classe:\\t\", labels[0], \"\\n score:\\t\", scores[0])"
   ]
  },
  {
   "cell_type": "code",
   "execution_count": 56,
   "id": "6cfa1371",
   "metadata": {},
   "outputs": [],
   "source": [
    "threshold = 0.5\n",
    "idx = np.where(abs(scores) > threshold)[0]\n",
    "boxes = boxes[idx]\n",
    "labels = labels[idx]\n",
    "scores = scores[idx]"
   ]
  },
  {
   "cell_type": "code",
   "execution_count": 57,
   "id": "1e25ae32",
   "metadata": {},
   "outputs": [
    {
     "data": {
      "image/png": "[encoded data removed]",
      "text/plain": [
       "<Figure size 1200x800 with 1 Axes>"
      ]
     },
     "metadata": {},
     "output_type": "display_data"
    }
   ],
   "source": [
    "plt.figure(figsize=(12,8))\n",
    "plt.imshow(img)\n",
    "ax = plt.gca()\n",
    "for box, label, score in zip(boxes, labels, scores):\n",
    "    x1, y1, x2, y2 = box\n",
    "    w = x2 - x1\n",
    "    h = y2 - y1\n",
    "    if isinstance(label, (list, np.ndarray)):\n",
    "        label = label[0]  # Se label è un array, prendi il primo elemento\n",
    "\n",
    "    if isinstance(score, (list, np.ndarray)):\n",
    "        score = score[0]  # Se score è un array, prendi il primo elemento\n",
    "\n",
    "    label = int(label)  # Converti l'etichetta in un intero\n",
    "    ax.add_patch(plt.Rectangle((x1, y1), w, h, fill=False, color=\"red\"))\n",
    "    ax.text(x1, y1, \"Class {}: {:.2f}\".format(label, score), fontsize=15, color=\"white\", bbox=dict(facecolor=\"red\", alpha=0.5))\n",
    "\n",
    "plt.show()"
   ]
  },
  {
   "cell_type": "code",
   "execution_count": 58,
   "id": "1f65d1ce",
   "metadata": {},
   "outputs": [],
   "source": [
    "category_map = {\n",
    "    1: 'indication',\n",
    "    2: 'prohibitory',\n",
    "    3: 'warning'\n",
    "}"
   ]
  },
  {
   "cell_type": "code",
   "execution_count": 59,
   "id": "b5f8568a",
   "metadata": {},
   "outputs": [
    {
     "data": {
      "image/png": "[encoded data removed]",
      "text/plain": [
       "<Figure size 1200x800 with 1 Axes>"
      ]
     },
     "metadata": {},
     "output_type": "display_data"
    }
   ],
   "source": [
    "plt.figure(figsize=(12,8))\n",
    "plt.imshow(img)\n",
    "ax = plt.gca()\n",
    "for box, label, score in zip(boxes, labels, scores):\n",
    "    x1, y1, x2, y2 = box\n",
    "    w = x2 - x1\n",
    "    h = y2 - y1\n",
    "    rect = plt.Rectangle((x1, y1), w, h, fill=False, color=\"red\")\n",
    "    ax.add_patch(rect)\n",
    "    ax.text(x1, y1, f\"{category_map[label]}: {score:.2f}\", fontsize=15, color=\"white\", bbox=dict(facecolor=\"red\", alpha=0.5))\n",
    "plt.show()"
   ]
  },
  {
   "cell_type": "code",
   "execution_count": null,
   "id": "dee065e8",
   "metadata": {},
   "outputs": [],
   "source": []
  },
  {
   "cell_type": "code",
   "execution_count": null,
   "id": "e3122c75",
   "metadata": {},
   "outputs": [],
   "source": []
  },
  {
   "cell_type": "code",
   "execution_count": null,
   "id": "93488f4d",
   "metadata": {},
   "outputs": [],
   "source": []
  },
  {
   "cell_type": "code",
   "execution_count": null,
   "id": "60bb5e55",
   "metadata": {},
   "outputs": [],
   "source": []
  }
 ],
 "metadata": {
  "kernelspec": {
   "display_name": "Python 3 (ipykernel)",
   "language": "python",
   "name": "python3"
  },
  "language_info": {
   "codemirror_mode": {
    "name": "ipython",
    "version": 3
   },
   "file_extension": ".py",
   "mimetype": "text/x-python",
   "name": "python",
   "nbconvert_exporter": "python",
   "pygments_lexer": "ipython3",
   "version": "3.9.13"
  }
 },
 "nbformat": 4,
 "nbformat_minor": 5
}
