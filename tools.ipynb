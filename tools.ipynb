{
 "cells": [
  {
   "cell_type": "code",
   "execution_count": 5,
   "id": "4fd8858e",
   "metadata": {},
   "outputs": [],
   "source": [
    "#convert TXT file on CSV file\n",
    "import pandas as pd\n",
    "\n",
    "read_file = pd.read_csv (r'DITS-full\\DITS-full\\DITS-detection\\detection_test\\day\\class.txt')\n",
    "read_file.to_csv (r'DITS-full\\DITS-full\\DITS-detection\\detection_test\\day\\classes.csv', index=None)"
   ]
  },
  {
   "cell_type": "code",
   "execution_count": null,
   "id": "ff05649e",
   "metadata": {},
   "outputs": [],
   "source": []
  }
 ],
 "metadata": {
  "kernelspec": {
   "display_name": "Python 3 (ipykernel)",
   "language": "python",
   "name": "python3"
  },
  "language_info": {
   "codemirror_mode": {
    "name": "ipython",
    "version": 3
   },
   "file_extension": ".py",
   "mimetype": "text/x-python",
   "name": "python",
   "nbconvert_exporter": "python",
   "pygments_lexer": "ipython3",
   "version": "3.9.13"
  }
 },
 "nbformat": 4,
 "nbformat_minor": 5
}
