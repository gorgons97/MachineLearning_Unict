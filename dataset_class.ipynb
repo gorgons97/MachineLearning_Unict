{
 "cells": [
  {
   "cell_type": "code",
   "execution_count": 1,
   "id": "9e311965",
   "metadata": {},
   "outputs": [
    {
     "data": {
      "text/plain": [
       "<matplotlib.pyplot._IonContext at 0x1c7826d6610>"
      ]
     },
     "execution_count": 1,
     "metadata": {},
     "output_type": "execute_result"
    }
   ],
   "source": [
    "import os\n",
    "import torch\n",
    "import pandas as pd\n",
    "from skimage import io, transform\n",
    "import numpy as np\n",
    "import matplotlib.pyplot as plt\n",
    "from torch.utils.data import Dataset, DataLoader\n",
    "from torchvision import transforms, utils\n",
    "\n",
    "import warnings\n",
    "warnings.filterwarnings(\"ignore\")\n",
    "\n",
    "plt.ion()   # interactive mode"
   ]
  },
  {
   "cell_type": "code",
   "execution_count": 2,
   "id": "b32dae50",
   "metadata": {},
   "outputs": [
    {
     "name": "stdout",
     "output_type": "stream",
     "text": [
      "Image name: DITS-full\\DITS-full\\DITS-detection\\class\\image\\0.png\n",
      "Type: 0\n"
     ]
    }
   ],
   "source": [
    "landmarks_frame = pd.read_csv('DITS-full\\DITS-full\\DITS-detection\\class\\classes.csv')\n",
    "\n",
    "n = 1\n",
    "img_name = 'DITS-full\\DITS-full\\DITS-detection\\class\\image\\\\'+landmarks_frame.iloc[0, 0]\n",
    "landmarks = landmarks_frame.iloc[n, 1]\n",
    "\n",
    "print('Image name: {}'.format(img_name))\n",
    "print('Type: {}'.format(landmarks))\n"
   ]
  },
  {
   "cell_type": "code",
   "execution_count": 6,
   "id": "e8b4f923",
   "metadata": {},
   "outputs": [],
   "source": [
    "class StreetSignDataset(Dataset):\n",
    "    \"\"\"Face Landmarks dataset.\"\"\"\n",
    "\n",
    "    def __init__(self, csv_file, root_dir, transform):\n",
    "        \"\"\"\n",
    "        Arguments:\n",
    "            csv_file (string): Path to the csv file with annotations.\n",
    "            root_dir (string): Directory with all the images.\n",
    "            transform (callable, optional): Optional transform to be applied\n",
    "                on a sample.\n",
    "        \"\"\"\n",
    "        self.landmarks_frame = pd.read_csv(csv_file)\n",
    "        self.root_dir = root_dir\n",
    "        self.transform = transform\n",
    "\n",
    "    def __len__(self):\n",
    "        return len(self.landmarks_frame)\n",
    "\n",
    "    def __getitem__(self, idx):\n",
    "        if torch.is_tensor(idx):\n",
    "            idx = idx.tolist()\n",
    "\n",
    "        img_name = os.path.join(self.root_dir,\n",
    "                                self.landmarks_frame.iloc[idx, 0])\n",
    "        image = io.imread(img_name)\n",
    "        landmarks = self.landmarks_frame.iloc[idx, 1]\n",
    "        sample = {'image': image, 'landmarks': landmarks}\n",
    "\n",
    "        if self.transform:\n",
    "            sample = self.transform(sample)\n",
    "\n",
    "        return sample"
   ]
  },
  {
   "cell_type": "code",
   "execution_count": 7,
   "id": "7af5de75",
   "metadata": {},
   "outputs": [],
   "source": [
    "transform = transforms.Compose([transforms.Resize(16),transforms.ToTensor()])"
   ]
  },
  {
   "cell_type": "code",
   "execution_count": 8,
   "id": "afee5a42",
   "metadata": {},
   "outputs": [
    {
     "name": "stdout",
     "output_type": "stream",
     "text": [
      "<enumerate object at 0x000001C782BBA540>\n",
      "0 [[[ 90  88 100]\n",
      "  [ 90  88 100]\n",
      "  [ 90  88 100]\n",
      "  ...\n",
      "  [122 112 113]\n",
      "  [122 112 113]\n",
      "  [123 113 114]]\n",
      "\n",
      " [[ 89  87  99]\n",
      "  [ 90  88 100]\n",
      "  [ 89  87  99]\n",
      "  ...\n",
      "  [124 114 115]\n",
      "  [127 117 118]\n",
      "  [129 119 120]]\n",
      "\n",
      " [[ 88  86  94]\n",
      "  [ 89  87  95]\n",
      "  [ 89  87  95]\n",
      "  ...\n",
      "  [135 124 131]\n",
      "  [137 126 133]\n",
      "  [136 125 132]]\n",
      "\n",
      " ...\n",
      "\n",
      " [[ 67  64  49]\n",
      "  [ 69  66  51]\n",
      "  [ 72  69  54]\n",
      "  ...\n",
      "  [ 75  67  73]\n",
      "  [ 76  68  74]\n",
      "  [ 77  66  73]]\n",
      "\n",
      " [[ 69  66  51]\n",
      "  [ 69  66  51]\n",
      "  [ 75  72  57]\n",
      "  ...\n",
      "  [ 75  65  66]\n",
      "  [ 77  67  68]\n",
      "  [ 76  64  66]]\n",
      "\n",
      " [[ 77  74  59]\n",
      "  [ 75  72  57]\n",
      "  [ 76  73  58]\n",
      "  ...\n",
      "  [ 74  64  65]\n",
      "  [ 75  65  66]\n",
      "  [ 75  63  65]]] 0\n"
     ]
    },
    {
     "ename": "NameError",
     "evalue": "name 'show_landmarks' is not defined",
     "output_type": "error",
     "traceback": [
      "\u001b[1;31m---------------------------------------------------------------------------\u001b[0m",
      "\u001b[1;31mNameError\u001b[0m                                 Traceback (most recent call last)",
      "\u001b[1;32m~\\AppData\\Local\\Temp\\ipykernel_581872\\332233232.py\u001b[0m in \u001b[0;36m<module>\u001b[1;34m\u001b[0m\n\u001b[0;32m     12\u001b[0m     \u001b[0max\u001b[0m\u001b[1;33m.\u001b[0m\u001b[0mset_title\u001b[0m\u001b[1;33m(\u001b[0m\u001b[1;34m'Sample #{}'\u001b[0m\u001b[1;33m.\u001b[0m\u001b[0mformat\u001b[0m\u001b[1;33m(\u001b[0m\u001b[0mi\u001b[0m\u001b[1;33m)\u001b[0m\u001b[1;33m)\u001b[0m\u001b[1;33m\u001b[0m\u001b[1;33m\u001b[0m\u001b[0m\n\u001b[0;32m     13\u001b[0m     \u001b[0max\u001b[0m\u001b[1;33m.\u001b[0m\u001b[0maxis\u001b[0m\u001b[1;33m(\u001b[0m\u001b[1;34m'off'\u001b[0m\u001b[1;33m)\u001b[0m\u001b[1;33m\u001b[0m\u001b[1;33m\u001b[0m\u001b[0m\n\u001b[1;32m---> 14\u001b[1;33m     \u001b[0mshow_landmarks\u001b[0m\u001b[1;33m(\u001b[0m\u001b[1;33m**\u001b[0m\u001b[0msample\u001b[0m\u001b[1;33m)\u001b[0m\u001b[1;33m\u001b[0m\u001b[1;33m\u001b[0m\u001b[0m\n\u001b[0m\u001b[0;32m     15\u001b[0m \u001b[1;33m\u001b[0m\u001b[0m\n\u001b[0;32m     16\u001b[0m     \u001b[1;32mif\u001b[0m \u001b[0mi\u001b[0m \u001b[1;33m==\u001b[0m \u001b[1;36m3\u001b[0m\u001b[1;33m:\u001b[0m\u001b[1;33m\u001b[0m\u001b[1;33m\u001b[0m\u001b[0m\n",
      "\u001b[1;31mNameError\u001b[0m: name 'show_landmarks' is not defined"
     ]
    },
    {
     "data": {
      "image/png": "[encoded data removed]",
      "text/plain": [
       "<Figure size 640x480 with 1 Axes>"
      ]
     },
     "metadata": {},
     "output_type": "display_data"
    }
   ],
   "source": [
    "sign_dataset = StreetSignDataset('DITS-full\\DITS-full\\DITS-detection\\class\\classes.csv', 'DITS-full\\DITS-full\\DITS-detection\\class\\image', transform)\n",
    "\n",
    "fig = plt.figure()\n",
    "\n",
    "print(enumerate(sign_dataset))\n",
    "\n",
    "for i, sample in enumerate(sign_dataset):\n",
    "    print(i, sample['image'], sample['landmarks'])\n",
    "\n",
    "    ax = plt.subplot(1, 4, i + 1)\n",
    "    plt.tight_layout()\n",
    "    ax.set_title('Sample #{}'.format(i))\n",
    "    ax.axis('off')\n",
    "    show_landmarks(**sample)\n",
    "\n",
    "    if i == 3:\n",
    "        plt.show()\n",
    "        break"
   ]
  },
  {
   "cell_type": "code",
   "execution_count": null,
   "id": "106a04ee",
   "metadata": {},
   "outputs": [],
   "source": []
  }
 ],
 "metadata": {
  "kernelspec": {
   "display_name": "Python 3 (ipykernel)",
   "language": "python",
   "name": "python3"
  },
  "language_info": {
   "codemirror_mode": {
    "name": "ipython",
    "version": 3
   },
   "file_extension": ".py",
   "mimetype": "text/x-python",
   "name": "python",
   "nbconvert_exporter": "python",
   "pygments_lexer": "ipython3",
   "version": "3.9.13"
  }
 },
 "nbformat": 4,
 "nbformat_minor": 5
}
