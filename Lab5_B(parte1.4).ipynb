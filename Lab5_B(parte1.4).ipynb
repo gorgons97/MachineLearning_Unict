{
 "cells": [
  {
   "cell_type": "code",
   "execution_count": 1,
   "id": "51020aeb",
   "metadata": {},
   "outputs": [
    {
     "name": "stderr",
     "output_type": "stream",
     "text": [
      "C:\\Users\\merav\\anaconda3\\Lib\\site-packages\\paramiko\\transport.py:219: CryptographyDeprecationWarning: Blowfish has been deprecated\n",
      "  \"class\": algorithms.Blowfish,\n"
     ]
    }
   ],
   "source": [
    "import nbimporter\n",
    "import dataset_class as StreetSign\n",
    "from torch.utils.data.dataset import Dataset\n",
    "from torch.utils.data import DataLoader\n",
    "from torch.utils.tensorboard import SummaryWriter\n",
    "from torchvision import transforms\n",
    "from torch import nn\n",
    "from torch.optim import SGD\n",
    "from sklearn.metrics import accuracy_score\n",
    "from os.path import join\n",
    "import torch\n",
    "import numpy as np\n",
    "from PIL import Image\n",
    "from os import path\n",
    "\n",
    "import matplotlib.pyplot as plt\n",
    "\n",
    "np.random.seed(1328)\n",
    "torch.random.manual_seed(1328);\n"
   ]
  },
  {
   "cell_type": "code",
   "execution_count": 2,
   "id": "e22fc9ad",
   "metadata": {},
   "outputs": [],
   "source": [
    "#resize normale\n",
    "tran = transforms.Compose([StreetSign.Rescale(256),StreetSign.RandomCrop(32),StreetSign.ToTensor()])\n",
    "#tran = None\n",
    "\n",
    "datatrain = StreetSign.StreetSignDataset('DITS-full\\DITS-full\\DITS-detection\\class\\classes.csv','DITS-full\\DITS-full\\DITS-detection\\class\\image',tran)\n"
   ]
  },
  {
   "cell_type": "code",
   "execution_count": 3,
   "id": "b89bc7d5",
   "metadata": {},
   "outputs": [],
   "source": [
    "#resize normale\n",
    "datatest = StreetSign.StreetSignDataset('DITS-full\\DITS-full\\DITS-detection\\detection_test\\day\\classes.csv','DITS-full\\DITS-full\\DITS-detection\\detection_test\\day',tran)"
   ]
  },
  {
   "cell_type": "code",
   "execution_count": 4,
   "id": "ff992e5a",
   "metadata": {},
   "outputs": [],
   "source": [
    "datatrain_loader = DataLoader(datatrain, batch_size=1024, shuffle=True)\n",
    "#cifar100_test_loader = DataLoader(cifar100_test, batch_size=1024, num_workers=2)\n",
    "datatest_loader = DataLoader(datatest, batch_size=1024, shuffle=True)\n",
    "#cifar100_test_loader = DataLoader(cifar100_test, batch_size=1024, num_workers=2)"
   ]
  },
  {
   "cell_type": "code",
   "execution_count": null,
   "id": "8c283fcd",
   "metadata": {},
   "outputs": [],
   "source": []
  },
  {
   "cell_type": "code",
   "execution_count": null,
   "id": "bd6e82aa",
   "metadata": {},
   "outputs": [],
   "source": []
  },
  {
   "cell_type": "code",
   "execution_count": null,
   "id": "501300ce",
   "metadata": {},
   "outputs": [],
   "source": []
  },
  {
   "cell_type": "code",
   "execution_count": 5,
   "id": "76652b38",
   "metadata": {},
   "outputs": [],
   "source": [
    "from torch import nn\n",
    "from torchvision.models import squeezenet1_0\n",
    "\n",
    "# Definisci la tua funzione get_model\n",
    "def get_model(num_class=101):\n",
    "    model = squeezenet1_0(pretrained=True)\n",
    "    model.classifier[1] = nn.Conv2d(512, num_class, kernel_size=(1, 1), stride=(1, 1))\n",
    "    model.num_classes = num_class\n",
    "    return model"
   ]
  },
  {
   "cell_type": "code",
   "execution_count": 6,
   "id": "89560338",
   "metadata": {},
   "outputs": [],
   "source": [
    "import torch\n",
    "import torch.nn as nn\n",
    "from torch.optim import SGD\n",
    "from torch.utils.tensorboard import SummaryWriter\n",
    "from sklearn.metrics import accuracy_score\n",
    "from os.path import join\n",
    "\n",
    "class AverageValueMeter:\n",
    "    def __init__(self):\n",
    "        self.reset()\n",
    "\n",
    "    def reset(self):\n",
    "        self.sum = 0\n",
    "        self.num = 0\n",
    "\n",
    "    def add(self, value, num):\n",
    "        self.sum += value * num\n",
    "        self.num += num\n",
    "\n",
    "    def value(self):\n",
    "        try:\n",
    "            return self.sum / self.num\n",
    "        except ZeroDivisionError:\n",
    "            return None\n",
    "\n",
    "def trainval_classifier(model, train_loader, test_loader, exp_name='experiment', lr=0.01, epochs=10, momentum=0.99, logdir='logs'):\n",
    "    criterion = nn.CrossEntropyLoss()\n",
    "    optimizer = SGD(model.parameters(), lr, momentum=momentum)\n",
    "\n",
    "    # Meters (misuratori)\n",
    "    loss_meter = AverageValueMeter()\n",
    "    acc_meter = AverageValueMeter()\n",
    "\n",
    "    # TensorBoard writer (scrittore per TensorBoard)\n",
    "    writer = SummaryWriter(join(logdir, exp_name))\n",
    "\n",
    "    # Dispositivo (CPU o GPU)\n",
    "    device = \"cuda\" if torch.cuda.is_available() else \"cpu\"\n",
    "    model.to(device)\n",
    "\n",
    "    # Definiamo un dizionario contenente i loader di training e test\n",
    "    loader = {'train': train_loader, 'test': test_loader}\n",
    "\n",
    "    # Inizializziamo il global step (passo globale)\n",
    "    global_step = 0\n",
    "\n",
    "    for e in range(epochs):\n",
    "        for mode in ['train', 'test']:\n",
    "            loss_meter.reset()\n",
    "            acc_meter.reset()\n",
    "            model.train() if mode == 'train' else model.eval()\n",
    "            \n",
    "            with torch.set_grad_enabled(mode == 'train'):\n",
    "                for i, batch in enumerate(loader[mode]):\n",
    "                    x = list(batch.values())[0].to(device).float()\n",
    "                    y = list(batch.values())[1].to(device).long()  # Assicurati che y sia di tipo Long\n",
    "                    y = y.squeeze()\n",
    "                    \n",
    "                    output=model(x)\n",
    "                    \n",
    "                    n = x.shape[0]  # Numero di elementi nel batch\n",
    "                    global_step += n\n",
    "                    l = criterion(output, y)\n",
    "\n",
    "                    if mode == 'train':\n",
    "                        l.backward()\n",
    "                        optimizer.step()\n",
    "                        optimizer.zero_grad()\n",
    "\n",
    "                    acc = accuracy_score(y.to('cpu'), output.to('cpu').max(1)[1])\n",
    "                    loss_meter.add(l.item(), n)\n",
    "                    acc_meter.add(acc, n)\n",
    "\n",
    "                    if mode == 'train':\n",
    "                        # Logghiamo i risultati iterazione per iterazione solo durante il training\n",
    "                        writer.add_scalar('loss/train', loss_meter.value(), global_step=global_step)\n",
    "                        writer.add_scalar('accuracy/train', acc_meter.value(), global_step=global_step)\n",
    "\n",
    "                # Logghiamo le stime finali dopo un'epoca (sia nel caso di training che test)\n",
    "                writer.add_scalar(f'loss/{mode}', loss_meter.value(), global_step=global_step)\n",
    "                writer.add_scalar(f'accuracy/{mode}', acc_meter.value(), global_step=global_step)\n",
    "\n",
    "                # Conserviamo i pesi del modello alla fine di un ciclo di training o test\n",
    "                torch.save(model.state_dict(), f'{exp_name}-{e + 1}.pth')\n",
    "\n",
    "    return model\n"
   ]
  },
  {
   "cell_type": "code",
   "execution_count": 7,
   "id": "2c6cbde4",
   "metadata": {},
   "outputs": [
    {
     "name": "stderr",
     "output_type": "stream",
     "text": [
      "C:\\Users\\merav\\anaconda3\\Lib\\site-packages\\torchvision\\models\\_utils.py:208: UserWarning: The parameter 'pretrained' is deprecated since 0.13 and may be removed in the future, please use 'weights' instead.\n",
      "  warnings.warn(\n",
      "C:\\Users\\merav\\anaconda3\\Lib\\site-packages\\torchvision\\models\\_utils.py:223: UserWarning: Arguments other than a weight enum or `None` for 'weights' are deprecated since 0.13 and may be removed in the future. The current behavior is equivalent to passing `weights=SqueezeNet1_0_Weights.IMAGENET1K_V1`. You can also use `weights=SqueezeNet1_0_Weights.DEFAULT` to get the most up-to-date weights.\n",
      "  warnings.warn(msg)\n"
     ]
    }
   ],
   "source": [
    "# Ottieni il modello SqueezeNet preaddestrato su Caltech-101\n",
    "squeezenet_caltech101 = get_model()\n",
    "\n",
    "# Per scopi didattici, alleniamo il modello solo per 5 epoche invece di 150\n",
    "squeezenet_caltech101_finetuned = trainval_classifier( squeezenet_caltech101,datatrain_loader, \n",
    "                                  datatest_loader, \n",
    "                                  exp_name='squeezenet_caltech101_finetuning',\n",
    "                                  lr=0.001, epochs=5)"
   ]
  },
  {
   "cell_type": "code",
   "execution_count": null,
   "id": "26c7e813",
   "metadata": {},
   "outputs": [],
   "source": []
  },
  {
   "cell_type": "code",
   "execution_count": 8,
   "id": "5cc1c895",
   "metadata": {},
   "outputs": [],
   "source": [
    "datatrain_loader = DataLoader(datatrain, batch_size=1024, shuffle=True)\n",
    "#cifar100_test_loader = DataLoader(cifar100_test, batch_size=1024, num_workers=2)\n",
    "datatest_loader = DataLoader(datatest, batch_size=1024, shuffle=True)\n",
    "#cifar100_test_loader = DataLoader(cifar100_test, batch_size=1024, num_workers=2)"
   ]
  },
  {
   "cell_type": "code",
   "execution_count": 9,
   "id": "b144a5dd",
   "metadata": {},
   "outputs": [
    {
     "name": "stdout",
     "output_type": "stream",
     "text": [
      "Accuracy: 0.5805471124620061\n"
     ]
    }
   ],
   "source": [
    "# Definisci la funzione test_classifier\n",
    "def test_classifier(model, loader):\n",
    "    device = \"cuda\" if torch.cuda.is_available() else \"cpu\"\n",
    "    model.to(device)\n",
    "    predictions, labels = [], []\n",
    "\n",
    "    for batch in loader:\n",
    "        x = list(batch.values())[0].to(device).float()\n",
    "        y = list(batch.values())[1].to(device).long()  \n",
    "        y = y.squeeze()\n",
    "        \n",
    "        output = model(x)\n",
    "        \n",
    "        preds = output.to('cpu').max(1)[1].numpy()\n",
    "        labs = y.to('cpu').numpy()\n",
    "        predictions.extend(list(preds))\n",
    "        labels.extend(list(labs))\n",
    "\n",
    "    return np.array(predictions), np.array(labels)\n",
    "\n",
    "# Utilizza la funzione per testare il modello squeezenet_caltech101_finetuned\n",
    "# Assicurati di avere un dataloader di test appropriato (ad esempio, test_loader) definito in precedenza\n",
    "predictions, true_labels = test_classifier(squeezenet_caltech101_finetuned, datatest_loader)\n",
    "\n",
    "# Ora puoi utilizzare le previsioni e le etichette reali per calcolare le metriche di valutazione desiderate\n",
    "# ad esempio, puoi calcolare l'accuracy così:\n",
    "accuracy = accuracy_score(true_labels, predictions)\n",
    "print(f'Accuracy: {accuracy}')\n"
   ]
  },
  {
   "cell_type": "code",
   "execution_count": null,
   "id": "4763c890",
   "metadata": {},
   "outputs": [],
   "source": []
  },
  {
   "cell_type": "code",
   "execution_count": 10,
   "id": "ccb994fd",
   "metadata": {},
   "outputs": [
    {
     "name": "stdout",
     "output_type": "stream",
     "text": [
      "Accuracy di Squeezenet su Caltech 101 - Ultimo modello: 58.05%\n"
     ]
    }
   ],
   "source": [
    "# Ottenere le previsioni del modello sul set di test di Caltech 101\n",
    "squeezenet_caltech101_finetuned_predictions_test, caltech101_labels_test = test_classifier(\n",
    "    squeezenet_caltech101_finetuned,\n",
    "    datatest_loader\n",
    ")\n",
    "\n",
    "# Calcolare e stampare l'accuratezza\n",
    "accuracy = accuracy_score(caltech101_labels_test, squeezenet_caltech101_finetuned_predictions_test)\n",
    "print(\"Accuracy di Squeezenet su Caltech 101 - Ultimo modello: {:.2f}%\".format(accuracy * 100))\n"
   ]
  },
  {
   "cell_type": "code",
   "execution_count": null,
   "id": "7843c276",
   "metadata": {},
   "outputs": [],
   "source": []
  }
 ],
 "metadata": {
  "kernelspec": {
   "display_name": "Python 3 (ipykernel)",
   "language": "python",
   "name": "python3"
  },
  "language_info": {
   "codemirror_mode": {
    "name": "ipython",
    "version": 3
   },
   "file_extension": ".py",
   "mimetype": "text/x-python",
   "name": "python",
   "nbconvert_exporter": "python",
   "pygments_lexer": "ipython3",
   "version": "3.11.3"
  }
 },
 "nbformat": 4,
 "nbformat_minor": 5
}
