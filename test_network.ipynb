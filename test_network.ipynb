{
 "cells": [
  {
   "cell_type": "code",
   "execution_count": 1,
   "id": "fbd5d44a",
   "metadata": {},
   "outputs": [],
   "source": [
    "import nbimporter\n",
    "from torch.utils.data.dataset import Dataset\n",
    "from torch.utils.data import DataLoader\n",
    "from torch.utils.tensorboard import SummaryWriter\n",
    "from torchvision import transforms\n",
    "from torch import nn\n",
    "from torch.optim import SGD\n",
    "from sklearn.metrics import accuracy_score\n",
    "from os.path import join\n",
    "import torch\n",
    "import numpy as np\n",
    "from PIL import Image\n",
    "from os import path\n",
    "\n",
    "import python_file.dataclass as StreetSign\n",
    "import python_file.function as Function\n",
    "import python_file.network as Network\n",
    "\n",
    "import matplotlib.pyplot as plt\n",
    "\n",
    "import dataset_class as prova\n",
    "\n",
    "np.random.seed(1328)\n",
    "torch.random.manual_seed(1328);"
   ]
  },
  {
   "cell_type": "code",
   "execution_count": 2,
   "id": "ed4346b2",
   "metadata": {},
   "outputs": [],
   "source": [
    "#resize normale\n",
    "tran = transforms.Compose([StreetSign.Rescale(32),StreetSign.RandomCrop(32),StreetSign.ToTensor()])"
   ]
  },
  {
   "cell_type": "code",
   "execution_count": 3,
   "id": "b4cc9c46",
   "metadata": {},
   "outputs": [],
   "source": [
    "datatrain = StreetSign.StreetSignDataset('DITS-full\\DITS-full\\DITS-detection\\class\\classes.csv','DITS-full\\DITS-full\\DITS-detection\\class\\image',tran)\n",
    "datatest = StreetSign.StreetSignTest('DITS-full\\DITS-full\\DITS-detection\\detection_test\\day\\prova.txt','DITS-full\\DITS-full\\DITS-detection\\detection_test\\day',tran)"
   ]
  },
  {
   "cell_type": "code",
   "execution_count": 4,
   "id": "7177f811",
   "metadata": {},
   "outputs": [],
   "source": [
    "datatrain_loader = DataLoader(datatrain, batch_size=1024, shuffle=True)\n",
    "#datatrain_loader = DataLoader(cifar100_test, batch_size=1024, num_workers=2)\n",
    "datatest_loader = DataLoader(datatest, batch_size=1024, shuffle=True)\n",
    "#datatest_loader = DataLoader(cifar100_test, batch_size=1024, num_workers=2)"
   ]
  },
  {
   "cell_type": "code",
   "execution_count": 5,
   "id": "33f7c967",
   "metadata": {},
   "outputs": [],
   "source": [
    "#number of epoch\n",
    "epoche = 50"
   ]
  },
  {
   "cell_type": "code",
   "execution_count": 6,
   "id": "5c2c82bd",
   "metadata": {},
   "outputs": [
    {
     "name": "stdout",
     "output_type": "stream",
     "text": [
      "Accuracy LeNetColor su StreetSign: 0.58\n"
     ]
    }
   ],
   "source": [
    "lenet_datatrain = Network.LeNetColor()\n",
    "\n",
    "lenet_datatrain = Function.train_classifier(lenet_datatrain, datatrain_loader, datatest_loader, \\\n",
    "                                            'lenet_dataset', epochs = 5)\n",
    "\n",
    "lenet_data_test_predictions, data_labels_test = Function.test_classifier(lenet_datatrain,\n",
    "                                                                         datatest_loader)\n",
    "print(\"Accuracy LeNetColor su StreetSign: %0.2f\" % \\\n",
    "      accuracy_score(data_labels_test,lenet_data_test_predictions))"
   ]
  },
  {
   "cell_type": "code",
   "execution_count": 7,
   "id": "2674ff06",
   "metadata": {},
   "outputs": [
    {
     "name": "stdout",
     "output_type": "stream",
     "text": [
      "Accuracy MiniAlexNet su StreetSign: 0.58\n"
     ]
    }
   ],
   "source": [
    "minialexnet_datatrain = Network.MiniAlexNet()\n",
    "\n",
    "minialexnet_datatrain = Function.train_classifier(minialexnet_datatrain, datatrain_loader, datatest_loader, \\\n",
    "                                                  'minialexnet_dataset', epochs = 5)\n",
    "\n",
    "minialexnet_data_test_predictions, data_labels_test = Function.test_classifier(minialexnet_datatrain,\n",
    "                                                                               datatest_loader)\n",
    "print(\"Accuracy MiniAlexNet su StreetSign: %0.2f\" % \\\n",
    "      accuracy_score(data_labels_test,minialexnet_data_test_predictions))"
   ]
  },
  {
   "cell_type": "code",
   "execution_count": 8,
   "id": "0353256c",
   "metadata": {},
   "outputs": [
    {
     "name": "stdout",
     "output_type": "stream",
     "text": [
      "Accuracy MiniAlexNetV2 su StreetSign: 0.58\n"
     ]
    }
   ],
   "source": [
    "minialexnetV2_datatrain = Network.MiniAlexNetV2()\n",
    "\n",
    "minialexnetV2_datatrain = Function.train_classifier(minialexnetV2_datatrain, datatrain_loader, datatest_loader, \\\n",
    "                                                    'minialexnetV2_dataset', epochs = 5)\n",
    "\n",
    "minialexnetV2_data_test_predictions, data_labels_test = Function.test_classifier(minialexnetV2_datatrain,\n",
    "                                                                               datatest_loader)\n",
    "print(\"Accuracy MiniAlexNetV2 su StreetSign: %0.2f\" % \\\n",
    "      accuracy_score(data_labels_test,minialexnetV2_data_test_predictions))"
   ]
  },
  {
   "cell_type": "raw",
   "id": "62452d7a",
   "metadata": {},
   "source": [
    "minialexnetV3_datatrain = Network.MiniAlexNetV3()\n",
    "\n",
    "minialexnetV3_datatrain = Function.train_classifier(minialexnetV3_datatrain, datatrain_loader, datatest_loader, \\\n",
    "                                                    'minialexnetV3_dataset', epochs=2)\n",
    "\n",
    "minialexnetV3_data_test_predictions, data_labels_test = Function.test_classifier(minialexnetV3_datatrain,\n",
    "                                                                                 datatest_loader)\n",
    "print(\"Accuracy MiniAlexNetV3 su StreetSign: %0.2f\" % \\\n",
    "      accuracy_score(data_labels_test,minialexnetV3_data_test_predictions))"
   ]
  },
  {
   "cell_type": "raw",
   "id": "e5e07c4e",
   "metadata": {},
   "source": [
    "minialexnetV4_datatrain = Network.MiniAlexNetV4()\n",
    "\n",
    "minialexnetV4_datatrain = Function.train_classifier(minialexnetV4_datatrain, datatrain_loader, datatest_loader, \\\n",
    "                                                    'minialexnetV4_dataset', epochs=2)\n",
    "\n",
    "minialexnetV4_data_test_predictions, data_labels_test = Function.test_classifier(minialexnetV4_datatrain,\n",
    "                                                                                 datatest_loader)\n",
    "print(\"Accuracy MiniAlexNetV4 su StreetSign: %0.2f\" % \\\n",
    "      accuracy_score(data_labels_test,minialexnetV4_data_test_predictions))"
   ]
  },
  {
   "cell_type": "code",
   "execution_count": null,
   "id": "48cb62f0",
   "metadata": {},
   "outputs": [],
   "source": []
  },
  {
   "cell_type": "code",
   "execution_count": null,
   "id": "96c36540",
   "metadata": {},
   "outputs": [],
   "source": []
  },
  {
   "cell_type": "code",
   "execution_count": null,
   "id": "f05415a8",
   "metadata": {},
   "outputs": [],
   "source": []
  },
  {
   "cell_type": "code",
   "execution_count": null,
   "id": "d475de80",
   "metadata": {},
   "outputs": [],
   "source": []
  },
  {
   "cell_type": "code",
   "execution_count": null,
   "id": "a7d72dee",
   "metadata": {},
   "outputs": [],
   "source": []
  }
 ],
 "metadata": {
  "kernelspec": {
   "display_name": "Python 3 (ipykernel)",
   "language": "python",
   "name": "python3"
  },
  "language_info": {
   "codemirror_mode": {
    "name": "ipython",
    "version": 3
   },
   "file_extension": ".py",
   "mimetype": "text/x-python",
   "name": "python",
   "nbconvert_exporter": "python",
   "pygments_lexer": "ipython3",
   "version": "3.9.13"
  }
 },
 "nbformat": 4,
 "nbformat_minor": 5
}
