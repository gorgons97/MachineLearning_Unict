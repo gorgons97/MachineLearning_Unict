{
 "cells": [
  {
   "cell_type": "code",
   "execution_count": 1,
   "id": "fbd5d44a",
   "metadata": {},
   "outputs": [],
   "source": [
    "import nbimporter\n",
    "from torch.utils.data.dataset import Dataset\n",
    "from torch.utils.data import DataLoader\n",
    "from torch.utils.tensorboard import SummaryWriter\n",
    "from torchvision import transforms\n",
    "from torch import nn\n",
    "from torch.optim import SGD\n",
    "from sklearn.metrics import accuracy_score\n",
    "from os.path import join\n",
    "import torch\n",
    "import numpy as np\n",
    "from PIL import Image\n",
    "from os import path\n",
    "\n",
    "import python_file.dataclass as StreetSign\n",
    "import python_file.function as Function\n",
    "import python_file.network as Network\n",
    "\n",
    "import matplotlib.pyplot as plt\n",
    "\n",
    "import dataset_class as prova\n",
    "\n",
    "np.random.seed(1328)\n",
    "torch.random.manual_seed(1328);"
   ]
  },
  {
   "cell_type": "code",
   "execution_count": 2,
   "id": "ed4346b2",
   "metadata": {},
   "outputs": [],
   "source": [
    "#resize normale\n",
    "tran = transforms.Compose([StreetSign.Rescale(32),StreetSign.RandomCrop(32),StreetSign.ToTensor()])"
   ]
  },
  {
   "cell_type": "code",
   "execution_count": 3,
   "id": "b4cc9c46",
   "metadata": {},
   "outputs": [],
   "source": [
    "datatrain = StreetSign.StreetSignDataset('DITS-full\\DITS-full\\DITS-detection\\class\\classes.csv','DITS-full\\DITS-full\\DITS-detection\\class\\image',tran)\n",
    "datatest = StreetSign.StreetSignTest('DITS-full\\DITS-full\\DITS-detection\\detection_test\\day\\prova.txt','DITS-full\\DITS-full\\DITS-detection\\detection_test\\day',tran)"
   ]
  },
  {
   "cell_type": "code",
   "execution_count": 4,
   "id": "7177f811",
   "metadata": {},
   "outputs": [],
   "source": [
    "datatrain_loader = DataLoader(datatrain, batch_size=1024, shuffle=True)\n",
    "datatest_loader = DataLoader(datatest, batch_size=1024, shuffle=True)"
   ]
  },
  {
   "cell_type": "code",
   "execution_count": 5,
   "id": "33f7c967",
   "metadata": {},
   "outputs": [],
   "source": [
    "#number of epoch\n",
    "epoche = 100"
   ]
  },
  {
   "cell_type": "code",
   "execution_count": null,
   "id": "0353256c",
   "metadata": {},
   "outputs": [],
   "source": [
    "minialexnetV2_datatrain = Network.MiniAlexNetV2()\n",
    "\n",
    "minialexnetV2_datatrain = Function.train_classifier(minialexnetV2_datatrain, datatrain_loader, datatest_loader, \\\n",
    "                                                    'minialexnetV2_dataset', epochs = epoche)\n",
    "\n",
    "minialexnetV2_data_test_predictions, data_labels_test = Function.test_classifier(minialexnetV2_datatrain,\n",
    "                                                                               datatest_loader)\n",
    "print(\"Accuracy MiniAlexNetV2 su StreetSign: %0.2f\" % \\\n",
    "      accuracy_score(data_labels_test,minialexnetV2_data_test_predictions))"
   ]
  },
  {
   "cell_type": "code",
   "execution_count": null,
   "id": "0ec635f7",
   "metadata": {},
   "outputs": [],
   "source": [
    "def rec_curve(predictions, gt):\n",
    "    assert predictions.shape == gt.shape\n",
    "    # calcoliamo tutti gli errori mediante MAE\n",
    "    errors = np.abs(np.array((predictions-gt)))\n",
    "    \n",
    "    # prendiamo i valori unici degli errori e ordiniamoli\n",
    "    tolerances = sorted(np.unique(errors))\n",
    "    correct= [] #lista delle \"accuracy\" relative a ogni soglia\n",
    "    \n",
    "    for t in tolerances:\n",
    "        correct.append((errors<=t).mean()) # frazione di elementi \"correttamente\" regressi\n",
    "    AUC = np.trapz(correct, tolerances) #a rea sotto la curva calcolata col metodo dei trapezi\n",
    "    tot_area = np.max(tolerances)*1 # area totale\n",
    "    AOC = tot_area - AUC\n",
    "    # restituiamo le soglie, la frazione di campioni correttamente regressi e l'area sopra la curva\n",
    "    return tolerances, correct, AOC"
   ]
  },
  {
   "cell_type": "code",
   "execution_count": null,
   "id": "74c603ac",
   "metadata": {},
   "outputs": [],
   "source": [
    "# REC curve:\n",
    "alexnet_rec = rec_curve(minialexnetV2_data_test_predictions, data_labels_test)\n",
    "plt.plot(alexnet_rec[0], alexnet_rec[1])\n",
    "plt.legend(['AlexNet. AOC: %.2f'%alexnet_rec[2]])\n",
    "plt.grid()\n",
    "plt.show()"
   ]
  }
 ],
 "metadata": {
  "kernelspec": {
   "display_name": "Python 3 (ipykernel)",
   "language": "python",
   "name": "python3"
  },
  "language_info": {
   "codemirror_mode": {
    "name": "ipython",
    "version": 3
   },
   "file_extension": ".py",
   "mimetype": "text/x-python",
   "name": "python",
   "nbconvert_exporter": "python",
   "pygments_lexer": "ipython3",
   "version": "3.9.13"
  }
 },
 "nbformat": 4,
 "nbformat_minor": 5
}
