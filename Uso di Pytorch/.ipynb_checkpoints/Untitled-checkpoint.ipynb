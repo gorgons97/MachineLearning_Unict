{
 "cells": [
  {
   "cell_type": "markdown",
   "id": "bb25dbc4",
   "metadata": {},
   "source": [
    "<h1>In questo notebook vi sarà una spiegazione sull'uso di pytorch e su come si può utilizzare</h1>\n",
    "    <p>Spero che quello che scriverò risulti chiaro</p>"
   ]
  },
  {
   "cell_type": "code",
   "execution_count": 1,
   "id": "a0f7f667",
   "metadata": {},
   "outputs": [],
   "source": [
    "import torch"
   ]
  },
  {
   "cell_type": "code",
   "execution_count": 19,
   "id": "ec1a60b9",
   "metadata": {},
   "outputs": [
    {
     "name": "stdout",
     "output_type": "stream",
     "text": [
      "tensor([[[0., 0., 0., 0., 0.],\n",
      "         [0., 0., 0., 0., 0.],\n",
      "         [0., 0., 0., 0., 0.],\n",
      "         [0., 0., 0., 0., 0.],\n",
      "         [0., 0., 0., 0., 0.]],\n",
      "\n",
      "        [[0., 0., 0., 0., 0.],\n",
      "         [0., 0., 0., 0., 0.],\n",
      "         [0., 0., 0., 0., 0.],\n",
      "         [0., 0., 0., 0., 0.],\n",
      "         [0., 0., 0., 0., 0.]],\n",
      "\n",
      "        [[0., 0., 0., 0., 0.],\n",
      "         [0., 0., 0., 0., 0.],\n",
      "         [0., 0., 0., 0., 0.],\n",
      "         [0., 0., 0., 0., 0.],\n",
      "         [0., 0., 0., 0., 0.]],\n",
      "\n",
      "        [[0., 0., 0., 0., 0.],\n",
      "         [0., 0., 0., 0., 0.],\n",
      "         [0., 0., 0., 0., 0.],\n",
      "         [0., 0., 0., 0., 0.],\n",
      "         [0., 0., 0., 0., 0.]],\n",
      "\n",
      "        [[0., 0., 0., 0., 0.],\n",
      "         [0., 0., 0., 0., 0.],\n",
      "         [0., 0., 0., 0., 0.],\n",
      "         [0., 0., 0., 0., 0.],\n",
      "         [0., 0., 0., 0., 0.]]])\n",
      "tensor([0.8483, 0.8681, 0.3711, 0.1055, 0.7568])\n",
      "tensor([0., 0., 0., 0., 0.])\n",
      "tensor([1., 1., 1., 1., 1.])\n"
     ]
    }
   ],
   "source": [
    "size = 5\n",
    "\n",
    "x = torch.empty(size,size,size)\n",
    "y = torch.rand(size)\n",
    "z = torch.zeros(size)\n",
    "w = torch.ones(size)\n",
    "print(x)\n",
    "print(y)\n",
    "print(z)\n",
    "print(w)"
   ]
  },
  {
   "cell_type": "code",
   "execution_count": 20,
   "id": "2273970f",
   "metadata": {},
   "outputs": [
    {
     "name": "stdout",
     "output_type": "stream",
     "text": [
      "tensor([2.5000, 3.0000])\n"
     ]
    }
   ],
   "source": [
    "x = torch.tensor([2.5, 3])\n",
    "print(x)"
   ]
  },
  {
   "cell_type": "markdown",
   "id": "54d719a1",
   "metadata": {},
   "source": [
    "Per poter sommare due tensori possiamo usare vari modi "
   ]
  },
  {
   "cell_type": "code",
   "execution_count": 21,
   "id": "35b29b8b",
   "metadata": {},
   "outputs": [
    {
     "name": "stdout",
     "output_type": "stream",
     "text": [
      "tensor([1.8483, 1.8681, 1.3711, 1.1055, 1.7568])\n"
     ]
    }
   ],
   "source": [
    "z= y+w\n",
    "print(z)"
   ]
  },
  {
   "cell_type": "code",
   "execution_count": 22,
   "id": "5543432a",
   "metadata": {},
   "outputs": [
    {
     "name": "stdout",
     "output_type": "stream",
     "text": [
      "tensor([1.8483, 1.8681, 1.3711, 1.1055, 1.7568])\n"
     ]
    }
   ],
   "source": [
    "z= torch.add(w,y)\n",
    "print(z)"
   ]
  },
  {
   "cell_type": "markdown",
   "id": "c017da1a",
   "metadata": {},
   "source": [
    "mentre se volessimo sommare su un tensore potremmo fare"
   ]
  },
  {
   "cell_type": "code",
   "execution_count": 23,
   "id": "9a646fef",
   "metadata": {},
   "outputs": [
    {
     "name": "stdout",
     "output_type": "stream",
     "text": [
      "tensor([1.8483, 1.8681, 1.3711, 1.1055, 1.7568])\n"
     ]
    }
   ],
   "source": [
    "y.add_(w)\n",
    "print(y)"
   ]
  },
  {
   "cell_type": "markdown",
   "id": "7c5dd907",
   "metadata": {},
   "source": [
    "Nel caso delle altre operzioni abbiamo \n",
    "<ul>\n",
    "    <item>sub per la sotrazione</br>\n",
    "    <item>mul per la moltiplicazione</br>\n",
    "    <item>div per la divisione</br>\n",
    "</ul>"
   ]
  },
  {
   "cell_type": "code",
   "execution_count": null,
   "id": "121bc821",
   "metadata": {},
   "outputs": [],
   "source": []
  }
 ],
 "metadata": {
  "kernelspec": {
   "display_name": "Python 3 (ipykernel)",
   "language": "python",
   "name": "python3"
  },
  "language_info": {
   "codemirror_mode": {
    "name": "ipython",
    "version": 3
   },
   "file_extension": ".py",
   "mimetype": "text/x-python",
   "name": "python",
   "nbconvert_exporter": "python",
   "pygments_lexer": "ipython3",
   "version": "3.9.13"
  }
 },
 "nbformat": 4,
 "nbformat_minor": 5
}
